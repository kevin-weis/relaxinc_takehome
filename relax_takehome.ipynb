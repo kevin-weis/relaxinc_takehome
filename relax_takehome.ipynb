{
  "nbformat": 4,
  "nbformat_minor": 0,
  "metadata": {
    "colab": {
      "name": "relax_takehome",
      "provenance": [],
      "collapsed_sections": [],
      "mount_file_id": "1xKdFplnlq4ZnPUiBdXQAYxcCWFxn3rkD",
      "authorship_tag": "ABX9TyOh0WY07Ldw/I3kz1PoxXxa",
      "include_colab_link": true
    },
    "kernelspec": {
      "name": "python3",
      "display_name": "Python 3"
    },
    "language_info": {
      "name": "python"
    }
  },
  "cells": [
    {
      "cell_type": "markdown",
      "metadata": {
        "id": "view-in-github",
        "colab_type": "text"
      },
      "source": [
        "<a href=\"https://colab.research.google.com/github/kevin-weis/relaxinc_takehome/blob/main/relax_takehome.ipynb\" target=\"_parent\"><img src=\"https://colab.research.google.com/assets/colab-badge.svg\" alt=\"Open In Colab\"/></a>"
      ]
    },
    {
      "cell_type": "code",
      "metadata": {
        "id": "Nla537ihLoQe"
      },
      "source": [
        "import pandas as pd\n",
        "import numpy as np\n",
        "import matplotlib.pyplot as plt\n",
        "%matplotlib inline\n",
        "import seaborn as sns"
      ],
      "execution_count": 6,
      "outputs": []
    },
    {
      "cell_type": "code",
      "metadata": {
        "id": "3z4nTCqHL84K"
      },
      "source": [
        "engagement = pd.read_csv(\"/content/drive/MyDrive/relax_challenge/takehome_user_engagement.csv\")"
      ],
      "execution_count": 17,
      "outputs": []
    },
    {
      "cell_type": "code",
      "metadata": {
        "colab": {
          "base_uri": "https://localhost:8080/"
        },
        "id": "YnqgHB4tMCAf",
        "outputId": "563f89cd-4691-48c1-b3b5-fd4f531f19c7"
      },
      "source": [
        "file = \"/content/drive/MyDrive/relax_challenge/takehome_users.csv\"\n",
        "import chardet\n",
        "with open(file, 'rb') as rawdata:\n",
        "    result = chardet.detect(rawdata.read(100000))\n",
        "result"
      ],
      "execution_count": 18,
      "outputs": [
        {
          "output_type": "execute_result",
          "data": {
            "text/plain": [
              "{'confidence': 0.7294372453287324, 'encoding': 'ISO-8859-1', 'language': ''}"
            ]
          },
          "metadata": {
            "tags": []
          },
          "execution_count": 18
        }
      ]
    },
    {
      "cell_type": "code",
      "metadata": {
        "id": "Fd1IkSbMMFs3"
      },
      "source": [
        "cols = ['object_id', 'creation_source', 'creation_time', \n",
        "        'last_session_creation_time', 'opted_in_to_mailing_list',\n",
        "        'enabled_for_marketing_drip', 'org_id', 'invited_by_user_id']\n",
        "users = pd.read_csv(\"/content/drive/MyDrive/relax_challenge/takehome_users.csv\", encoding=\"ISO-8859-1\", usecols=cols)\n"
      ],
      "execution_count": 56,
      "outputs": []
    },
    {
      "cell_type": "code",
      "metadata": {
        "colab": {
          "base_uri": "https://localhost:8080/",
          "height": 206
        },
        "id": "meO6fyHONNQ9",
        "outputId": "678fc7f3-707a-422a-83ef-4f3bf46b7898"
      },
      "source": [
        "engagement.head()"
      ],
      "execution_count": 20,
      "outputs": [
        {
          "output_type": "execute_result",
          "data": {
            "text/html": [
              "<div>\n",
              "<style scoped>\n",
              "    .dataframe tbody tr th:only-of-type {\n",
              "        vertical-align: middle;\n",
              "    }\n",
              "\n",
              "    .dataframe tbody tr th {\n",
              "        vertical-align: top;\n",
              "    }\n",
              "\n",
              "    .dataframe thead th {\n",
              "        text-align: right;\n",
              "    }\n",
              "</style>\n",
              "<table border=\"1\" class=\"dataframe\">\n",
              "  <thead>\n",
              "    <tr style=\"text-align: right;\">\n",
              "      <th></th>\n",
              "      <th>time_stamp</th>\n",
              "      <th>user_id</th>\n",
              "      <th>visited</th>\n",
              "    </tr>\n",
              "  </thead>\n",
              "  <tbody>\n",
              "    <tr>\n",
              "      <th>0</th>\n",
              "      <td>2014-04-22 03:53:30</td>\n",
              "      <td>1</td>\n",
              "      <td>1</td>\n",
              "    </tr>\n",
              "    <tr>\n",
              "      <th>1</th>\n",
              "      <td>2013-11-15 03:45:04</td>\n",
              "      <td>2</td>\n",
              "      <td>1</td>\n",
              "    </tr>\n",
              "    <tr>\n",
              "      <th>2</th>\n",
              "      <td>2013-11-29 03:45:04</td>\n",
              "      <td>2</td>\n",
              "      <td>1</td>\n",
              "    </tr>\n",
              "    <tr>\n",
              "      <th>3</th>\n",
              "      <td>2013-12-09 03:45:04</td>\n",
              "      <td>2</td>\n",
              "      <td>1</td>\n",
              "    </tr>\n",
              "    <tr>\n",
              "      <th>4</th>\n",
              "      <td>2013-12-25 03:45:04</td>\n",
              "      <td>2</td>\n",
              "      <td>1</td>\n",
              "    </tr>\n",
              "  </tbody>\n",
              "</table>\n",
              "</div>"
            ],
            "text/plain": [
              "            time_stamp  user_id  visited\n",
              "0  2014-04-22 03:53:30        1        1\n",
              "1  2013-11-15 03:45:04        2        1\n",
              "2  2013-11-29 03:45:04        2        1\n",
              "3  2013-12-09 03:45:04        2        1\n",
              "4  2013-12-25 03:45:04        2        1"
            ]
          },
          "metadata": {
            "tags": []
          },
          "execution_count": 20
        }
      ]
    },
    {
      "cell_type": "code",
      "metadata": {
        "colab": {
          "base_uri": "https://localhost:8080/",
          "height": 313
        },
        "id": "ACQrT_GVNOdb",
        "outputId": "973dbf61-354c-4478-afc6-2ec72a4aa8b2"
      },
      "source": [
        "users.head()"
      ],
      "execution_count": 57,
      "outputs": [
        {
          "output_type": "execute_result",
          "data": {
            "text/html": [
              "<div>\n",
              "<style scoped>\n",
              "    .dataframe tbody tr th:only-of-type {\n",
              "        vertical-align: middle;\n",
              "    }\n",
              "\n",
              "    .dataframe tbody tr th {\n",
              "        vertical-align: top;\n",
              "    }\n",
              "\n",
              "    .dataframe thead th {\n",
              "        text-align: right;\n",
              "    }\n",
              "</style>\n",
              "<table border=\"1\" class=\"dataframe\">\n",
              "  <thead>\n",
              "    <tr style=\"text-align: right;\">\n",
              "      <th></th>\n",
              "      <th>object_id</th>\n",
              "      <th>creation_time</th>\n",
              "      <th>creation_source</th>\n",
              "      <th>last_session_creation_time</th>\n",
              "      <th>opted_in_to_mailing_list</th>\n",
              "      <th>enabled_for_marketing_drip</th>\n",
              "      <th>org_id</th>\n",
              "      <th>invited_by_user_id</th>\n",
              "    </tr>\n",
              "  </thead>\n",
              "  <tbody>\n",
              "    <tr>\n",
              "      <th>0</th>\n",
              "      <td>1</td>\n",
              "      <td>2014-04-22 03:53:30</td>\n",
              "      <td>GUEST_INVITE</td>\n",
              "      <td>1.398139e+09</td>\n",
              "      <td>1</td>\n",
              "      <td>0</td>\n",
              "      <td>11</td>\n",
              "      <td>10803.0</td>\n",
              "    </tr>\n",
              "    <tr>\n",
              "      <th>1</th>\n",
              "      <td>2</td>\n",
              "      <td>2013-11-15 03:45:04</td>\n",
              "      <td>ORG_INVITE</td>\n",
              "      <td>1.396238e+09</td>\n",
              "      <td>0</td>\n",
              "      <td>0</td>\n",
              "      <td>1</td>\n",
              "      <td>316.0</td>\n",
              "    </tr>\n",
              "    <tr>\n",
              "      <th>2</th>\n",
              "      <td>3</td>\n",
              "      <td>2013-03-19 23:14:52</td>\n",
              "      <td>ORG_INVITE</td>\n",
              "      <td>1.363735e+09</td>\n",
              "      <td>0</td>\n",
              "      <td>0</td>\n",
              "      <td>94</td>\n",
              "      <td>1525.0</td>\n",
              "    </tr>\n",
              "    <tr>\n",
              "      <th>3</th>\n",
              "      <td>4</td>\n",
              "      <td>2013-05-21 08:09:28</td>\n",
              "      <td>GUEST_INVITE</td>\n",
              "      <td>1.369210e+09</td>\n",
              "      <td>0</td>\n",
              "      <td>0</td>\n",
              "      <td>1</td>\n",
              "      <td>5151.0</td>\n",
              "    </tr>\n",
              "    <tr>\n",
              "      <th>4</th>\n",
              "      <td>5</td>\n",
              "      <td>2013-01-17 10:14:20</td>\n",
              "      <td>GUEST_INVITE</td>\n",
              "      <td>1.358850e+09</td>\n",
              "      <td>0</td>\n",
              "      <td>0</td>\n",
              "      <td>193</td>\n",
              "      <td>5240.0</td>\n",
              "    </tr>\n",
              "  </tbody>\n",
              "</table>\n",
              "</div>"
            ],
            "text/plain": [
              "   object_id        creation_time  ... org_id  invited_by_user_id\n",
              "0          1  2014-04-22 03:53:30  ...     11             10803.0\n",
              "1          2  2013-11-15 03:45:04  ...      1               316.0\n",
              "2          3  2013-03-19 23:14:52  ...     94              1525.0\n",
              "3          4  2013-05-21 08:09:28  ...      1              5151.0\n",
              "4          5  2013-01-17 10:14:20  ...    193              5240.0\n",
              "\n",
              "[5 rows x 8 columns]"
            ]
          },
          "metadata": {
            "tags": []
          },
          "execution_count": 57
        }
      ]
    },
    {
      "cell_type": "code",
      "metadata": {
        "colab": {
          "base_uri": "https://localhost:8080/"
        },
        "id": "yasZuwQQNPIU",
        "outputId": "db4af0c5-3abc-46ec-ba53-8b3942377afa"
      },
      "source": [
        "print(\"There were {} users and {} total logins\".format(\n",
        "    engagement['user_id'].nunique(), len(engagement)))"
      ],
      "execution_count": 58,
      "outputs": [
        {
          "output_type": "stream",
          "text": [
            "There were 8823 users and 207917 total logins\n"
          ],
          "name": "stdout"
        }
      ]
    },
    {
      "cell_type": "code",
      "metadata": {
        "id": "VZV-qTRENltK"
      },
      "source": [
        "engagement['time_stamp'] = pd.to_datetime(\n",
        "    engagement['time_stamp']\n",
        ")"
      ],
      "execution_count": 59,
      "outputs": []
    },
    {
      "cell_type": "code",
      "metadata": {
        "id": "tD8qIuJSNvZL"
      },
      "source": [
        "def logins_in_days(df, days=7, logins=3):\n",
        "  from datetime import timedelta\n",
        "  df['date'] = df['time_stamp'].dt.date\n",
        "  df = df.drop_duplicates(subset='date').sort_values('date')\n",
        "  passed_days = df['date'].diff(periods=logins-1)\n",
        "  return any(passed_days <= timedelta(days=days))"
      ],
      "execution_count": 60,
      "outputs": []
    },
    {
      "cell_type": "code",
      "metadata": {
        "id": "Z8fc_KWjTnsV"
      },
      "source": [
        "adopted = engagement.groupby('user_id').apply(logins_in_days)\n",
        "adopted.name = 'adopted_user'"
      ],
      "execution_count": 61,
      "outputs": []
    },
    {
      "cell_type": "code",
      "metadata": {
        "colab": {
          "base_uri": "https://localhost:8080/"
        },
        "id": "CGgjf93YTsJX",
        "outputId": "7f82a750-cfda-4073-9b09-9a9079cfd3d0"
      },
      "source": [
        "print(\"There were {} adopted users out of {} users\".format(\n",
        "    sum(adopted), len(adopted)\n",
        "))"
      ],
      "execution_count": 62,
      "outputs": [
        {
          "output_type": "stream",
          "text": [
            "There were 1656 adopted users out of 8823 users\n"
          ],
          "name": "stdout"
        }
      ]
    },
    {
      "cell_type": "code",
      "metadata": {
        "colab": {
          "base_uri": "https://localhost:8080/"
        },
        "id": "5zAMkCrhT9PI",
        "outputId": "54253a96-87b7-4b90-9b6a-6e68271135dc"
      },
      "source": [
        "users['org_id'].value_counts().head()"
      ],
      "execution_count": 63,
      "outputs": [
        {
          "output_type": "execute_result",
          "data": {
            "text/plain": [
              "0    319\n",
              "1    233\n",
              "2    201\n",
              "3    168\n",
              "4    159\n",
              "Name: org_id, dtype: int64"
            ]
          },
          "metadata": {
            "tags": []
          },
          "execution_count": 63
        }
      ]
    },
    {
      "cell_type": "code",
      "metadata": {
        "colab": {
          "base_uri": "https://localhost:8080/"
        },
        "id": "WHWNNNmeUMCK",
        "outputId": "c90ab611-19b8-49f0-e7a3-e8b5e6615d29"
      },
      "source": [
        "users['invited_by_user_id'].value_counts().head()"
      ],
      "execution_count": 64,
      "outputs": [
        {
          "output_type": "execute_result",
          "data": {
            "text/plain": [
              "10741.0    13\n",
              "2527.0     12\n",
              "2308.0     11\n",
              "1525.0     11\n",
              "11770.0    11\n",
              "Name: invited_by_user_id, dtype: int64"
            ]
          },
          "metadata": {
            "tags": []
          },
          "execution_count": 64
        }
      ]
    },
    {
      "cell_type": "code",
      "metadata": {
        "id": "1IkePm8oUQo8"
      },
      "source": [
        "users = users.drop(['org_id', 'invited_by_user_id'], axis=1)"
      ],
      "execution_count": 65,
      "outputs": []
    },
    {
      "cell_type": "code",
      "metadata": {
        "id": "Ny_xtuqGUY04"
      },
      "source": [
        "users['creation_time'] = pd.to_datetime(\n",
        "    users['creation_time'])\n",
        "users['last_session_creation_time'] = pd.to_datetime(users['last_session_creation_time'], unit='s')\n",
        "users['history'] = users['last_session_creation_time'] - users['creation_time']\n",
        "users['history'] = users['history'].dt.days\n",
        "\n",
        "latest = max(users['creation_time'])\n",
        "users['account_age'] = latest - users['creation_time']\n",
        "users['account_age'] = users['account_age'].dt.days\n",
        "\n",
        "users = users.drop(['creation_time', 'last_session_creation_time'], axis=1)"
      ],
      "execution_count": 66,
      "outputs": []
    },
    {
      "cell_type": "code",
      "metadata": {
        "colab": {
          "base_uri": "https://localhost:8080/",
          "height": 226
        },
        "id": "5q48BdAZVivc",
        "outputId": "cde89ab2-ab38-44bb-9843-335541c826b4"
      },
      "source": [
        "users.head()"
      ],
      "execution_count": 67,
      "outputs": [
        {
          "output_type": "execute_result",
          "data": {
            "text/html": [
              "<div>\n",
              "<style scoped>\n",
              "    .dataframe tbody tr th:only-of-type {\n",
              "        vertical-align: middle;\n",
              "    }\n",
              "\n",
              "    .dataframe tbody tr th {\n",
              "        vertical-align: top;\n",
              "    }\n",
              "\n",
              "    .dataframe thead th {\n",
              "        text-align: right;\n",
              "    }\n",
              "</style>\n",
              "<table border=\"1\" class=\"dataframe\">\n",
              "  <thead>\n",
              "    <tr style=\"text-align: right;\">\n",
              "      <th></th>\n",
              "      <th>object_id</th>\n",
              "      <th>creation_source</th>\n",
              "      <th>opted_in_to_mailing_list</th>\n",
              "      <th>enabled_for_marketing_drip</th>\n",
              "      <th>history</th>\n",
              "      <th>account_age</th>\n",
              "    </tr>\n",
              "  </thead>\n",
              "  <tbody>\n",
              "    <tr>\n",
              "      <th>0</th>\n",
              "      <td>1</td>\n",
              "      <td>GUEST_INVITE</td>\n",
              "      <td>1</td>\n",
              "      <td>0</td>\n",
              "      <td>0.0</td>\n",
              "      <td>38</td>\n",
              "    </tr>\n",
              "    <tr>\n",
              "      <th>1</th>\n",
              "      <td>2</td>\n",
              "      <td>ORG_INVITE</td>\n",
              "      <td>0</td>\n",
              "      <td>0</td>\n",
              "      <td>136.0</td>\n",
              "      <td>196</td>\n",
              "    </tr>\n",
              "    <tr>\n",
              "      <th>2</th>\n",
              "      <td>3</td>\n",
              "      <td>ORG_INVITE</td>\n",
              "      <td>0</td>\n",
              "      <td>0</td>\n",
              "      <td>0.0</td>\n",
              "      <td>437</td>\n",
              "    </tr>\n",
              "    <tr>\n",
              "      <th>3</th>\n",
              "      <td>4</td>\n",
              "      <td>GUEST_INVITE</td>\n",
              "      <td>0</td>\n",
              "      <td>0</td>\n",
              "      <td>1.0</td>\n",
              "      <td>374</td>\n",
              "    </tr>\n",
              "    <tr>\n",
              "      <th>4</th>\n",
              "      <td>5</td>\n",
              "      <td>GUEST_INVITE</td>\n",
              "      <td>0</td>\n",
              "      <td>0</td>\n",
              "      <td>5.0</td>\n",
              "      <td>498</td>\n",
              "    </tr>\n",
              "  </tbody>\n",
              "</table>\n",
              "</div>"
            ],
            "text/plain": [
              "   object_id creation_source  ...  history  account_age\n",
              "0          1    GUEST_INVITE  ...      0.0           38\n",
              "1          2      ORG_INVITE  ...    136.0          196\n",
              "2          3      ORG_INVITE  ...      0.0          437\n",
              "3          4    GUEST_INVITE  ...      1.0          374\n",
              "4          5    GUEST_INVITE  ...      5.0          498\n",
              "\n",
              "[5 rows x 6 columns]"
            ]
          },
          "metadata": {
            "tags": []
          },
          "execution_count": 67
        }
      ]
    },
    {
      "cell_type": "code",
      "metadata": {
        "colab": {
          "base_uri": "https://localhost:8080/"
        },
        "id": "OOpYhQmkVnCx",
        "outputId": "cd144180-e821-4973-a1d6-e9ee8dad7ccd"
      },
      "source": [
        "users.info()"
      ],
      "execution_count": 68,
      "outputs": [
        {
          "output_type": "stream",
          "text": [
            "<class 'pandas.core.frame.DataFrame'>\n",
            "RangeIndex: 12000 entries, 0 to 11999\n",
            "Data columns (total 6 columns):\n",
            " #   Column                      Non-Null Count  Dtype  \n",
            "---  ------                      --------------  -----  \n",
            " 0   object_id                   12000 non-null  int64  \n",
            " 1   creation_source             12000 non-null  object \n",
            " 2   opted_in_to_mailing_list    12000 non-null  int64  \n",
            " 3   enabled_for_marketing_drip  12000 non-null  int64  \n",
            " 4   history                     8823 non-null   float64\n",
            " 5   account_age                 12000 non-null  int64  \n",
            "dtypes: float64(1), int64(4), object(1)\n",
            "memory usage: 562.6+ KB\n"
          ],
          "name": "stdout"
        }
      ]
    },
    {
      "cell_type": "code",
      "metadata": {
        "id": "Rp-2OxJVVpH3"
      },
      "source": [
        "users = users.set_index('object_id')\n",
        "users.index.name = 'user_id'\n",
        "data = pd.concat([users, adopted], axis=1, join='inner')\n",
        "data['adopted_user'] = data['adopted_user'].astype(int)"
      ],
      "execution_count": 69,
      "outputs": []
    },
    {
      "cell_type": "code",
      "metadata": {
        "colab": {
          "base_uri": "https://localhost:8080/",
          "height": 388
        },
        "id": "Pjn7-m45Wi6y",
        "outputId": "1f57b150-7944-42bc-c544-b37e4d815d80"
      },
      "source": [
        "_ = sns.countplot(x='creation_source', data=data, hue='adopted_user')\n",
        "_ = plt.xticks(rotation=90)"
      ],
      "execution_count": 70,
      "outputs": [
        {
          "output_type": "display_data",
          "data": {
            "image/png": "[encoded data removed]",
            "text/plain": [
              "<Figure size 432x288 with 1 Axes>"
            ]
          },
          "metadata": {
            "tags": [],
            "needs_background": "light"
          }
        }
      ]
    },
    {
      "cell_type": "code",
      "metadata": {
        "colab": {
          "base_uri": "https://localhost:8080/"
        },
        "id": "CSQshngYWr-e",
        "outputId": "3bcd4299-28ff-4346-8fe1-e6023b3fbf9c"
      },
      "source": [
        "from scipy.stats import chi2_contingency\n",
        "crosstab = pd.crosstab(data['creation_source'], data['adopted_user'])\n",
        "results = chi2_contingency(crosstab)\n",
        "print('chi2 = {}\\tp = {}'.format(results[0], results[1]))"
      ],
      "execution_count": 71,
      "outputs": [
        {
          "output_type": "stream",
          "text": [
            "chi2 = 41.27933208242451\tp = 2.3526508745340972e-08\n"
          ],
          "name": "stdout"
        }
      ]
    },
    {
      "cell_type": "code",
      "metadata": {
        "colab": {
          "base_uri": "https://localhost:8080/"
        },
        "id": "zj9jdvqhXDcX",
        "outputId": "7bd3ecd4-7340-4147-94f8-dce333ef1f04"
      },
      "source": [
        "data.groupby('creation_source')['adopted_user'].apply(lambda x: sum(x) / len(x))"
      ],
      "execution_count": 72,
      "outputs": [
        {
          "output_type": "execute_result",
          "data": {
            "text/plain": [
              "creation_source\n",
              "GUEST_INVITE          0.232368\n",
              "ORG_INVITE            0.180050\n",
              "PERSONAL_PROJECTS     0.225131\n",
              "SIGNUP                0.159115\n",
              "SIGNUP_GOOGLE_AUTH    0.172563\n",
              "Name: adopted_user, dtype: float64"
            ]
          },
          "metadata": {
            "tags": []
          },
          "execution_count": 72
        }
      ]
    },
    {
      "cell_type": "code",
      "metadata": {
        "colab": {
          "base_uri": "https://localhost:8080/"
        },
        "id": "WmUyq9RqXKzb",
        "outputId": "1a7b3f6d-bd79-4fc5-be90-e740edd5b286"
      },
      "source": [
        "data.groupby('opted_in_to_mailing_list')['adopted_user'].apply(lambda x: sum(x) / len(x))"
      ],
      "execution_count": 73,
      "outputs": [
        {
          "output_type": "execute_result",
          "data": {
            "text/plain": [
              "opted_in_to_mailing_list\n",
              "0    0.185994\n",
              "1    0.192722\n",
              "Name: adopted_user, dtype: float64"
            ]
          },
          "metadata": {
            "tags": []
          },
          "execution_count": 73
        }
      ]
    },
    {
      "cell_type": "code",
      "metadata": {
        "colab": {
          "base_uri": "https://localhost:8080/"
        },
        "id": "IsuAAasbXS-h",
        "outputId": "8da55f0a-36d1-408b-d6ec-206024a5af3a"
      },
      "source": [
        "def z_test(df, col, target='adopted_user'):\n",
        "  from statsmodels.stats.weightstats import CompareMeans\n",
        "  opted_in = df.loc[data[col] == 1, target]\n",
        "  opted_out = df.loc[data[col] == 0, target]\n",
        "  z_data = CompareMeans.from_data(opted_in, opted_out)\n",
        "  z, p = CompareMeans.ztest_ind(z_data)\n",
        "  print(\"For {}, z = {}, p = {}\".format(col, z, p))\n",
        "\n",
        "z_test(data, 'opted_in_to_mailing_list')"
      ],
      "execution_count": 74,
      "outputs": [
        {
          "output_type": "stream",
          "text": [
            "For opted_in_to_mailing_list, z = 0.7029779128148235, p = 0.4820695142048762\n"
          ],
          "name": "stdout"
        }
      ]
    },
    {
      "cell_type": "code",
      "metadata": {
        "colab": {
          "base_uri": "https://localhost:8080/"
        },
        "id": "kKdLHOxrXskW",
        "outputId": "6b29d85a-20e2-4a8d-978e-24805636348e"
      },
      "source": [
        "data.groupby('enabled_for_marketing_drip')['adopted_user'].apply(lambda x: sum(x)/len(x))"
      ],
      "execution_count": 75,
      "outputs": [
        {
          "output_type": "execute_result",
          "data": {
            "text/plain": [
              "enabled_for_marketing_drip\n",
              "0    0.186982\n",
              "1    0.191648\n",
              "Name: adopted_user, dtype: float64"
            ]
          },
          "metadata": {
            "tags": []
          },
          "execution_count": 75
        }
      ]
    },
    {
      "cell_type": "code",
      "metadata": {
        "colab": {
          "base_uri": "https://localhost:8080/"
        },
        "id": "R4A1ppPEX46l",
        "outputId": "7d351f08-c6b7-4625-ba10-b6706721ded3"
      },
      "source": [
        "z_test(data, 'enabled_for_marketing_drip')"
      ],
      "execution_count": 76,
      "outputs": [
        {
          "output_type": "stream",
          "text": [
            "For enabled_for_marketing_drip, z = 0.40292649500940264, p = 0.6870022995069656\n"
          ],
          "name": "stdout"
        }
      ]
    },
    {
      "cell_type": "code",
      "metadata": {
        "colab": {
          "base_uri": "https://localhost:8080/",
          "height": 278
        },
        "id": "mfDYRMdKX9TI",
        "outputId": "bb198ea5-81a4-46a0-f3f0-502fa6f79890"
      },
      "source": [
        "def plot_hist_days(df, col, xlabel):\n",
        "    _ = plt.hist(df.loc[data['adopted_user']==1, col], \n",
        "                 bins=30, alpha=0.3, color='b', label='adopted user')\n",
        "    _ = plt.hist(df.loc[data['adopted_user']==0, col], \n",
        "                 bins=30, alpha=0.3, color='r', label='non adopted user')\n",
        "    _ = plt.yscale('log')\n",
        "    _ = plt.legend()\n",
        "    _ = plt.xlabel(xlabel)\n",
        "    _ = plt.ylabel('No. of users')\n",
        "    _ = plt.yticks([1, 10, 100, 1000], ['1', '10', '100', '1000'])\n",
        "plot_hist_days(data, 'history', 'user history(days)')"
      ],
      "execution_count": 77,
      "outputs": [
        {
          "output_type": "display_data",
          "data": {
            "image/png": "[encoded data removed]",
            "text/plain": [
              "<Figure size 432x288 with 1 Axes>"
            ]
          },
          "metadata": {
            "tags": [],
            "needs_background": "light"
          }
        }
      ]
    },
    {
      "cell_type": "code",
      "metadata": {
        "colab": {
          "base_uri": "https://localhost:8080/",
          "height": 282
        },
        "id": "JeobYk_rYA4r",
        "outputId": "96c48092-30d0-4fb9-973f-e741662e168a"
      },
      "source": [
        "plot_hist_days(data, 'account_age', 'account age(days)')"
      ],
      "execution_count": 78,
      "outputs": [
        {
          "output_type": "display_data",
          "data": {
            "image/png": "[encoded data removed]",
            "text/plain": [
              "<Figure size 432x288 with 1 Axes>"
            ]
          },
          "metadata": {
            "tags": [],
            "needs_background": "light"
          }
        }
      ]
    },
    {
      "cell_type": "code",
      "metadata": {
        "id": "M7YvhUC-YDW6"
      },
      "source": [
        "creation_source = pd.get_dummies(data['creation_source'], drop_first=True)\n",
        "model_data = pd.concat([data, creation_source], axis=1).drop('creation_source', axis=1)\n",
        "y = model_data['adopted_user']\n",
        "X = model_data.drop('adopted_user', axis=1)"
      ],
      "execution_count": 79,
      "outputs": []
    },
    {
      "cell_type": "code",
      "metadata": {
        "id": "Dkqb1OKhYJdG"
      },
      "source": [
        "from sklearn.model_selection import train_test_split\n",
        "Xtrain, Xtest, ytrain, ytest = train_test_split(\n",
        "    X, y, stratify=y, random_state=42)"
      ],
      "execution_count": 80,
      "outputs": []
    },
    {
      "cell_type": "code",
      "metadata": {
        "colab": {
          "base_uri": "https://localhost:8080/"
        },
        "id": "ctxgGgmfYJ7W",
        "outputId": "a7feb066-7ff4-427a-92de-8d9040accf1c"
      },
      "source": [
        "from sklearn.ensemble import RandomForestClassifier\n",
        "from sklearn.model_selection import GridSearchCV\n",
        "clf = RandomForestClassifier(random_state=42, class_weight='balanced')\n",
        "# use CV to tune number of trees\n",
        "params = {'n_estimators': [10, 50, 100, 200]}\n",
        "model = GridSearchCV(clf, params)\n",
        "model.fit(Xtrain, ytrain)\n",
        "print('Best parameters were', model.best_params_)\n",
        "print('Best average precision was', model.best_score_)"
      ],
      "execution_count": 81,
      "outputs": [
        {
          "output_type": "stream",
          "text": [
            "Best parameters were {'n_estimators': 50}\n",
            "Best average precision was 0.962521322728487\n"
          ],
          "name": "stdout"
        }
      ]
    },
    {
      "cell_type": "code",
      "metadata": {
        "colab": {
          "base_uri": "https://localhost:8080/"
        },
        "id": "L4PM4EVIYk0s",
        "outputId": "0e961b7d-2480-48eb-f100-bb26facb212a"
      },
      "source": [
        "from sklearn.metrics import classification_report, accuracy_score\n",
        "model = RandomForestClassifier(\n",
        "    random_state=42, class_weight='balanced', n_estimators=100\n",
        ")\n",
        "model.fit(Xtrain, ytrain)\n",
        "ypred = model.predict(Xtest)\n",
        "print('Accuracy of test set was', accuracy_score(ytest, ypred))\n",
        "print(classification_report(ytest, ypred))"
      ],
      "execution_count": 82,
      "outputs": [
        {
          "output_type": "stream",
          "text": [
            "Accuracy of test set was 0.9524025385312783\n",
            "              precision    recall  f1-score   support\n",
            "\n",
            "           0       0.97      0.97      0.97      1792\n",
            "           1       0.88      0.86      0.87       414\n",
            "\n",
            "    accuracy                           0.95      2206\n",
            "   macro avg       0.92      0.92      0.92      2206\n",
            "weighted avg       0.95      0.95      0.95      2206\n",
            "\n"
          ],
          "name": "stdout"
        }
      ]
    },
    {
      "cell_type": "code",
      "metadata": {
        "colab": {
          "base_uri": "https://localhost:8080/"
        },
        "id": "JRGeINd3YMfM",
        "outputId": "ac8d3d23-1c4d-43f2-a5de-c5c2e48a5ebf"
      },
      "source": [
        "imp = pd.Series(model.feature_importances_, index=X.columns)\n",
        "imp = imp.sort_values(ascending=False)\n",
        "print(imp)"
      ],
      "execution_count": 83,
      "outputs": [
        {
          "output_type": "stream",
          "text": [
            "history                       0.896213\n",
            "account_age                   0.088842\n",
            "opted_in_to_mailing_list      0.003002\n",
            "SIGNUP                        0.002919\n",
            "enabled_for_marketing_drip    0.002682\n",
            "ORG_INVITE                    0.002350\n",
            "PERSONAL_PROJECTS             0.002069\n",
            "SIGNUP_GOOGLE_AUTH            0.001923\n",
            "dtype: float64\n"
          ],
          "name": "stdout"
        }
      ]
    },
    {
      "cell_type": "code",
      "metadata": {
        "id": "sPJl76yAYoOi"
      },
      "source": [
        ""
      ],
      "execution_count": null,
      "outputs": []
    }
  ]
}